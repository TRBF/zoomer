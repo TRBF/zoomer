{
 "cells": [
  {
   "cell_type": "code",
   "execution_count": 1,
   "id": "c079df6c",
   "metadata": {},
   "outputs": [],
   "source": [
    "from astropy.io import fits\n",
    "from astropy.visualization import (ImageNormalize, MinMaxInterval, ZScaleInterval, LinearStretch)\n",
    "from astropy.visualization import make_lupton_rgb  # Optional for color\n",
    "from PIL import Image \n",
    "from io import BytesIO\n",
    "import matplotlib.pyplot as plt\n",
    "# import numpy as np\n",
    "import cv2\n",
    "import cupy as np\n",
    "from skimage.color import rgb2hsv\n",
    "\n",
    "b_channel_hdul = fits.open('assets/h_m51_b_s05_drz_sci.fits')\n",
    "h_channel_hdul = fits.open('assets/h_m51_h_s05_drz_sci.fits')\n",
    "v_channel_hdul = fits.open('assets/h_m51_v_s05_drz_sci.fits')"
   ]
  },
  {
   "cell_type": "code",
   "execution_count": 2,
   "id": "bc00f33a",
   "metadata": {},
   "outputs": [
    {
     "data": {
      "text/plain": [
       "array([[0., 0., 0., ..., 0., 0., 0.],\n",
       "       [0., 0., 0., ..., 0., 0., 0.],\n",
       "       [0., 0., 0., ..., 0., 0., 0.],\n",
       "       ...,\n",
       "       [0., 0., 0., ..., 0., 0., 0.],\n",
       "       [0., 0., 0., ..., 0., 0., 0.],\n",
       "       [0., 0., 0., ..., 0., 0., 0.]], shape=(12200, 8600), dtype='>f4')"
      ]
     },
     "execution_count": 2,
     "metadata": {},
     "output_type": "execute_result"
    }
   ],
   "source": [
    "b_channel = b_channel_hdul[0].data\n",
    "h_channel = h_channel_hdul[0].data\n",
    "v_channel = v_channel_hdul[0].data\n",
    "b_channel"
   ]
  },
  {
   "cell_type": "code",
   "execution_count": 3,
   "id": "bd9aaa82",
   "metadata": {},
   "outputs": [
    {
     "ename": "CUDARuntimeError",
     "evalue": "cudaErrorInsufficientDriver: CUDA driver version is insufficient for CUDA runtime version",
     "output_type": "error",
     "traceback": [
      "\u001b[31m---------------------------------------------------------------------------\u001b[39m",
      "\u001b[31mCUDARuntimeError\u001b[39m                          Traceback (most recent call last)",
      "\u001b[36mCell\u001b[39m\u001b[36m \u001b[39m\u001b[32mIn[3]\u001b[39m\u001b[32m, line 1\u001b[39m\n\u001b[32m----> \u001b[39m\u001b[32m1\u001b[39m b_channel = \u001b[43mnp\u001b[49m\u001b[43m.\u001b[49m\u001b[43marray\u001b[49m\u001b[43m(\u001b[49m\u001b[43mb_channel\u001b[49m\u001b[43m)\u001b[49m\n\u001b[32m      2\u001b[39m h_channel = np.array(h_channel)\n\u001b[32m      3\u001b[39m v_channel = np.array(v_channel)\n",
      "\u001b[36mFile \u001b[39m\u001b[32m~/Code/projects/NASA-IGZOOMERS/photo-zoomer/zoomervenv/lib/python3.12/site-packages/cupy/_creation/from_data.py:53\u001b[39m, in \u001b[36marray\u001b[39m\u001b[34m(obj, dtype, copy, order, subok, ndmin, blocking)\u001b[39m\n\u001b[32m      7\u001b[39m \u001b[38;5;28;01mdef\u001b[39;00m\u001b[38;5;250m \u001b[39m\u001b[34marray\u001b[39m(obj, dtype=\u001b[38;5;28;01mNone\u001b[39;00m, copy=\u001b[38;5;28;01mTrue\u001b[39;00m, order=\u001b[33m'\u001b[39m\u001b[33mK\u001b[39m\u001b[33m'\u001b[39m, subok=\u001b[38;5;28;01mFalse\u001b[39;00m, ndmin=\u001b[32m0\u001b[39m, *,\n\u001b[32m      8\u001b[39m           blocking=\u001b[38;5;28;01mFalse\u001b[39;00m):\n\u001b[32m      9\u001b[39m \u001b[38;5;250m    \u001b[39m\u001b[33;03m\"\"\"Creates an array on the current device.\u001b[39;00m\n\u001b[32m     10\u001b[39m \n\u001b[32m     11\u001b[39m \u001b[33;03m    This function currently does not support the ``subok`` option.\u001b[39;00m\n\u001b[32m   (...)\u001b[39m\u001b[32m     51\u001b[39m \n\u001b[32m     52\u001b[39m \u001b[33;03m    \"\"\"\u001b[39;00m\n\u001b[32m---> \u001b[39m\u001b[32m53\u001b[39m     \u001b[38;5;28;01mreturn\u001b[39;00m \u001b[43m_core\u001b[49m\u001b[43m.\u001b[49m\u001b[43marray\u001b[49m\u001b[43m(\u001b[49m\u001b[43mobj\u001b[49m\u001b[43m,\u001b[49m\u001b[43m \u001b[49m\u001b[43mdtype\u001b[49m\u001b[43m,\u001b[49m\u001b[43m \u001b[49m\u001b[43mcopy\u001b[49m\u001b[43m,\u001b[49m\u001b[43m \u001b[49m\u001b[43morder\u001b[49m\u001b[43m,\u001b[49m\u001b[43m \u001b[49m\u001b[43msubok\u001b[49m\u001b[43m,\u001b[49m\u001b[43m \u001b[49m\u001b[43mndmin\u001b[49m\u001b[43m,\u001b[49m\u001b[43m \u001b[49m\u001b[43mblocking\u001b[49m\u001b[43m)\u001b[49m\n",
      "\u001b[36mFile \u001b[39m\u001b[32mcupy/_core/core.pyx:2502\u001b[39m, in \u001b[36mcupy._core.core.array\u001b[39m\u001b[34m()\u001b[39m\n",
      "\u001b[36mFile \u001b[39m\u001b[32mcupy/_core/core.pyx:2529\u001b[39m, in \u001b[36mcupy._core.core.array\u001b[39m\u001b[34m()\u001b[39m\n",
      "\u001b[36mFile \u001b[39m\u001b[32mcupy/_core/core.pyx:2740\u001b[39m, in \u001b[36mcupy._core.core._array_default\u001b[39m\u001b[34m()\u001b[39m\n",
      "\u001b[36mFile \u001b[39m\u001b[32mcupy/_core/core.pyx:167\u001b[39m, in \u001b[36mcupy._core.core.ndarray.__new__\u001b[39m\u001b[34m()\u001b[39m\n",
      "\u001b[36mFile \u001b[39m\u001b[32mcupy/_core/core.pyx:254\u001b[39m, in \u001b[36mcupy._core.core._ndarray_base._init\u001b[39m\u001b[34m()\u001b[39m\n",
      "\u001b[36mFile \u001b[39m\u001b[32mcupy/cuda/memory.pyx:875\u001b[39m, in \u001b[36mcupy.cuda.memory.alloc\u001b[39m\u001b[34m()\u001b[39m\n",
      "\u001b[36mFile \u001b[39m\u001b[32mcupy/cuda/memory.pyx:1579\u001b[39m, in \u001b[36mcupy.cuda.memory.MemoryPool.malloc\u001b[39m\u001b[34m()\u001b[39m\n",
      "\u001b[36mFile \u001b[39m\u001b[32mcupy/cuda/memory.pyx:1599\u001b[39m, in \u001b[36mcupy.cuda.memory.MemoryPool.malloc\u001b[39m\u001b[34m()\u001b[39m\n",
      "\u001b[36mFile \u001b[39m\u001b[32mcupy/cuda/device.pyx:40\u001b[39m, in \u001b[36mcupy.cuda.device.get_device_id\u001b[39m\u001b[34m()\u001b[39m\n",
      "\u001b[36mFile \u001b[39m\u001b[32mcupy_backends/cuda/api/runtime.pyx:202\u001b[39m, in \u001b[36mcupy_backends.cuda.api.runtime.getDevice\u001b[39m\u001b[34m()\u001b[39m\n",
      "\u001b[36mFile \u001b[39m\u001b[32mcupy_backends/cuda/api/runtime.pyx:146\u001b[39m, in \u001b[36mcupy_backends.cuda.api.runtime.check_status\u001b[39m\u001b[34m()\u001b[39m\n",
      "\u001b[31mCUDARuntimeError\u001b[39m: cudaErrorInsufficientDriver: CUDA driver version is insufficient for CUDA runtime version"
     ]
    }
   ],
   "source": [
    "b_channel = np.array(b_channel)\n",
    "h_channel = np.array(h_channel)\n",
    "v_channel = np.array(v_channel)\n",
    "b_channel.max()"
   ]
  },
  {
   "cell_type": "code",
   "execution_count": null,
   "id": "67f5a8e6",
   "metadata": {},
   "outputs": [],
   "source": [
    "b_ch_normalised = ImageNormalize(b_channel, interval=ZScaleInterval(), stretch=LinearStretch())\n",
    "h_ch_normalised = ImageNormalize(h_channel, interval=ZScaleInterval(), stretch=LinearStretch())\n",
    "v_ch_normalised = ImageNormalize(v_channel, interval=ZScaleInterval(), stretch=LinearStretch())"
   ]
  },
  {
   "cell_type": "code",
   "execution_count": null,
   "id": "21d24715",
   "metadata": {},
   "outputs": [
    {
     "name": "stderr",
     "output_type": "stream",
     "text": [
      "/home/trbf/Code/projects/NASA-IGZOOMERS/photo-zoomer/zoomervenv/lib/python3.12/site-packages/skimage/color/colorconv.py:316: RuntimeWarning: divide by zero encountered in divide\n",
      "  out_s = delta / out_v\n"
     ]
    }
   ],
   "source": [
    "rgb_image = np.stack([b_ch_normalised(b_channel), h_ch_normalised(h_channel), v_ch_normalised(v_channel)], axis=-1)\n",
    "intensity_image = np.average(rgb_image, axis=-1)\n",
    "hsv_image = rgb2hsv(rgb_image)"
   ]
  },
  {
   "cell_type": "code",
   "execution_count": null,
   "id": "a30d5600",
   "metadata": {},
   "outputs": [],
   "source": [
    "# norm = ImageNormalize(np_img, interval=ZScaleInterval(), stretch=LinearStretch())\n",
    "# plt.imshow(np_img, cmap='gray', origin='lower', norm=norm)\n",
    "# plt.colorbar()\n",
    "# plt.title('FITS Image (Z-Scale)')\n",
    "# plt.show()"
   ]
  },
  {
   "cell_type": "code",
   "execution_count": null,
   "id": "7e67383e",
   "metadata": {},
   "outputs": [
    {
     "data": {
      "text/plain": [
       "(12200, 8600, 3)"
      ]
     },
     "execution_count": 20,
     "metadata": {},
     "output_type": "execute_result"
    }
   ],
   "source": [
    "hsv_image.shape"
   ]
  },
  {
   "cell_type": "code",
   "execution_count": null,
   "id": "9f6d6ad3",
   "metadata": {},
   "outputs": [
    {
     "name": "stderr",
     "output_type": "stream",
     "text": [
      "Warning: Ignoring XDG_SESSION_TYPE=wayland on Gnome. Use QT_QPA_PLATFORM=wayland to run on Wayland anyway.\n"
     ]
    }
   ],
   "source": [
    "plt.imshow('ree', hsv_image)\n",
    "plt.axis('off')\n",
    "plt.show()"
   ]
  },
  {
   "cell_type": "code",
   "execution_count": null,
   "id": "7a06367b",
   "metadata": {},
   "outputs": [],
   "source": [
    "def select_zone(np_image: np.array, x: int, y: int, zoom_level: int, w_resolution: int = 1920, h_resolution: int = 1080):\n",
    "    # returns required image section (x, y, x+1920*zoom_level)\n",
    "    w_ct = np_image.shape[0] / w_resolution\n",
    "    h_ct = np_image.shape[1] / h_resolution\n",
    "\n",
    "    sectioned_array = np_image[x : x + w_ct * zoom_level, y : y + h_ct * zoom_level]\n",
    "    \n",
    "    return sectioned_array"
   ]
  },
  {
   "cell_type": "code",
   "execution_count": 32,
   "id": "ee44ed1f",
   "metadata": {},
   "outputs": [],
   "source": [
    "def compress_zone(np_image_section: np.array, quality: int = 95):\n",
    "    jpg_img = Image.fromarray(np_image_section)\n",
    "    buf = BytesIO()\n",
    "    jpg_img.save(buf, format=\"JPEG\", quality=quality)\n",
    "    \n",
    "    return buf.getvalue()"
   ]
  },
  {
   "cell_type": "code",
   "execution_count": 33,
   "id": "19f8ee0e",
   "metadata": {},
   "outputs": [],
   "source": [
    "def get_zone_image(np_image: np.array, x: int, y: int, zoom_level: int, w_resolution: int = 1920, h_resolution: int = 1080):\n",
    "    return compress_zone(select_zone(np_image=np_image, \n",
    "                                     x=x, \n",
    "                                     y=y, \n",
    "                                     zoom_level=zoom_level, \n",
    "                                     w_resolution=w_resolution, \n",
    "                                     h_resolution=h_resolution))"
   ]
  },
  {
   "cell_type": "code",
   "execution_count": 34,
   "id": "822b2318",
   "metadata": {},
   "outputs": [],
   "source": [
    "def save_compression_levels(np_image: np.array, filename: str, exit_w_dim: int = 1920, exit_h_dim: int = 1080):\n",
    "    w_img = np_image.shape[0]\n",
    "    h_img = np_image.shape[0]\n",
    "\n",
    "    for compression_level in range(1, max(w_img/exit_w_dim, h_img/exit_h_dim)):\n",
    "        x = 0\n",
    "        while x + exit_w_dim * compression_level <= w_img:\n",
    "            y = 0\n",
    "            while y + exit_h_dim * compression_level <= h_img:\n",
    "                with open(f'{filename}_compression_level_{compression_level}.jpg', 'wb') as f:\n",
    "                    f.write(get_zone_image(np_image=np_image, x=x, y=y, w_resolution=exit_w_dim, h_resolution=exit_h_dim))"
   ]
  },
  {
   "cell_type": "code",
   "execution_count": null,
   "id": "0606b323",
   "metadata": {},
   "outputs": [],
   "source": []
  }
 ],
 "metadata": {
  "kernelspec": {
   "display_name": "zoomervenv",
   "language": "python",
   "name": "python3"
  },
  "language_info": {
   "codemirror_mode": {
    "name": "ipython",
    "version": 3
   },
   "file_extension": ".py",
   "mimetype": "text/x-python",
   "name": "python",
   "nbconvert_exporter": "python",
   "pygments_lexer": "ipython3",
   "version": "3.12.4"
  }
 },
 "nbformat": 4,
 "nbformat_minor": 5
}
